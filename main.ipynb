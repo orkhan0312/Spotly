{
 "cells": [
  {
   "cell_type": "code",
   "execution_count": 2,
   "metadata": {
    "collapsed": true
   },
   "outputs": [],
   "source": [
    "import pandas as pd\n",
    "\n",
    "# Reading dataset\n",
    "songgs = pd.read_csv('ds2.csv')"
   ]
  },
  {
   "cell_type": "code",
   "execution_count": 3,
   "outputs": [
    {
     "data": {
      "text/plain": "               title  tag     artist  year   views  \\\n0          Killa Cam  rap    Cam'ron  2004  173166   \n1         Can I Live  rap      JAY-Z  1996  468624   \n2  Forgive Me Father  rap   Fabolous  2003    4743   \n3       Down and Out  rap    Cam'ron  2004  144404   \n4             Fly In  rap  Lil Wayne  2005   78271   \n5     Lollipop Remix  rap  Lil Wayne  2008  580832   \n6         Im Not You  rap     Clipse  2002   28645   \n7        Family Ties  rap    Cam'ron  2004   41960   \n8  Rockin and Rollin  rap    Cam'ron  1998    6399   \n9      Lord You Know  rap    Cam'ron  2004   11882   \n\n                                       features  \\\n0                   {\"Cam\\\\'ron\",\"Opera Steve\"}   \n1                                            {}   \n2                                            {}   \n3  {\"Cam\\\\'ron\",\"Kanye West\",\"Syleena Johnson\"}   \n4                                            {}   \n5                 {\"Kanye West\",\"Static Major\"}   \n6   {Jadakiss,\"Styles P\",\"Roscoe P. Coldchain\"}   \n7                     {\"Cam\\\\'ron\",\"Lady Wray\"}   \n8                                 {\"Cam\\\\'ron\"}   \n9          {\"Cam\\\\'ron\",\"Juelz Santana\",Jaheim}   \n\n                                              lyrics  id  \n0  [Chorus: Opera Steve & Cam'ron]\\nKilla Cam, Ki...   1  \n1  [Produced by Irv Gotti]\\n\\n[Intro]\\nYeah, hah,...   3  \n2  Maybe cause I'm eatin\\nAnd these bastards fien...   4  \n3  [Produced by Kanye West and Brian Miller]\\n\\n[...   5  \n4  [Intro]\\nSo they ask me\\n\"Young boy\\nWhat you ...   6  \n5  [Intro: Lil Wayne]\\nHaha\\nUh-huh\\nNo homo (You...   7  \n6  [Intro: Pusha T]\\nNo, no, no!\\nI told you, I l...   8  \n7  [Verse 1: Cam'ron]\\nKilla, Dipset\\nMan I spit ...   9  \n8  [Verse 1]\\nAy yo you wonder who I are\\nI guzzl...  10  \n9  [Chorus: Jaheim]\\nNow Lord you know, just how ...  11  ",
      "text/html": "<div>\n<style scoped>\n    .dataframe tbody tr th:only-of-type {\n        vertical-align: middle;\n    }\n\n    .dataframe tbody tr th {\n        vertical-align: top;\n    }\n\n    .dataframe thead th {\n        text-align: right;\n    }\n</style>\n<table border=\"1\" class=\"dataframe\">\n  <thead>\n    <tr style=\"text-align: right;\">\n      <th></th>\n      <th>title</th>\n      <th>tag</th>\n      <th>artist</th>\n      <th>year</th>\n      <th>views</th>\n      <th>features</th>\n      <th>lyrics</th>\n      <th>id</th>\n    </tr>\n  </thead>\n  <tbody>\n    <tr>\n      <th>0</th>\n      <td>Killa Cam</td>\n      <td>rap</td>\n      <td>Cam'ron</td>\n      <td>2004</td>\n      <td>173166</td>\n      <td>{\"Cam\\\\'ron\",\"Opera Steve\"}</td>\n      <td>[Chorus: Opera Steve &amp; Cam'ron]\\nKilla Cam, Ki...</td>\n      <td>1</td>\n    </tr>\n    <tr>\n      <th>1</th>\n      <td>Can I Live</td>\n      <td>rap</td>\n      <td>JAY-Z</td>\n      <td>1996</td>\n      <td>468624</td>\n      <td>{}</td>\n      <td>[Produced by Irv Gotti]\\n\\n[Intro]\\nYeah, hah,...</td>\n      <td>3</td>\n    </tr>\n    <tr>\n      <th>2</th>\n      <td>Forgive Me Father</td>\n      <td>rap</td>\n      <td>Fabolous</td>\n      <td>2003</td>\n      <td>4743</td>\n      <td>{}</td>\n      <td>Maybe cause I'm eatin\\nAnd these bastards fien...</td>\n      <td>4</td>\n    </tr>\n    <tr>\n      <th>3</th>\n      <td>Down and Out</td>\n      <td>rap</td>\n      <td>Cam'ron</td>\n      <td>2004</td>\n      <td>144404</td>\n      <td>{\"Cam\\\\'ron\",\"Kanye West\",\"Syleena Johnson\"}</td>\n      <td>[Produced by Kanye West and Brian Miller]\\n\\n[...</td>\n      <td>5</td>\n    </tr>\n    <tr>\n      <th>4</th>\n      <td>Fly In</td>\n      <td>rap</td>\n      <td>Lil Wayne</td>\n      <td>2005</td>\n      <td>78271</td>\n      <td>{}</td>\n      <td>[Intro]\\nSo they ask me\\n\"Young boy\\nWhat you ...</td>\n      <td>6</td>\n    </tr>\n    <tr>\n      <th>5</th>\n      <td>Lollipop Remix</td>\n      <td>rap</td>\n      <td>Lil Wayne</td>\n      <td>2008</td>\n      <td>580832</td>\n      <td>{\"Kanye West\",\"Static Major\"}</td>\n      <td>[Intro: Lil Wayne]\\nHaha\\nUh-huh\\nNo homo (You...</td>\n      <td>7</td>\n    </tr>\n    <tr>\n      <th>6</th>\n      <td>Im Not You</td>\n      <td>rap</td>\n      <td>Clipse</td>\n      <td>2002</td>\n      <td>28645</td>\n      <td>{Jadakiss,\"Styles P\",\"Roscoe P. Coldchain\"}</td>\n      <td>[Intro: Pusha T]\\nNo, no, no!\\nI told you, I l...</td>\n      <td>8</td>\n    </tr>\n    <tr>\n      <th>7</th>\n      <td>Family Ties</td>\n      <td>rap</td>\n      <td>Cam'ron</td>\n      <td>2004</td>\n      <td>41960</td>\n      <td>{\"Cam\\\\'ron\",\"Lady Wray\"}</td>\n      <td>[Verse 1: Cam'ron]\\nKilla, Dipset\\nMan I spit ...</td>\n      <td>9</td>\n    </tr>\n    <tr>\n      <th>8</th>\n      <td>Rockin and Rollin</td>\n      <td>rap</td>\n      <td>Cam'ron</td>\n      <td>1998</td>\n      <td>6399</td>\n      <td>{\"Cam\\\\'ron\"}</td>\n      <td>[Verse 1]\\nAy yo you wonder who I are\\nI guzzl...</td>\n      <td>10</td>\n    </tr>\n    <tr>\n      <th>9</th>\n      <td>Lord You Know</td>\n      <td>rap</td>\n      <td>Cam'ron</td>\n      <td>2004</td>\n      <td>11882</td>\n      <td>{\"Cam\\\\'ron\",\"Juelz Santana\",Jaheim}</td>\n      <td>[Chorus: Jaheim]\\nNow Lord you know, just how ...</td>\n      <td>11</td>\n    </tr>\n  </tbody>\n</table>\n</div>"
     },
     "execution_count": 3,
     "metadata": {},
     "output_type": "execute_result"
    }
   ],
   "source": [
    "# Printing first 10 songs\n",
    "songgs.head(10)"
   ],
   "metadata": {
    "collapsed": false
   }
  },
  {
   "cell_type": "code",
   "execution_count": 4,
   "outputs": [
    {
     "data": {
      "text/plain": "5913411"
     },
     "execution_count": 4,
     "metadata": {},
     "output_type": "execute_result"
    }
   ],
   "source": [
    "len(songgs) # number of songs in dataset"
   ],
   "metadata": {
    "collapsed": false
   }
  },
  {
   "cell_type": "code",
   "execution_count": 19,
   "outputs": [],
   "source": [
    "songs = songgs[songgs['views']>= 20000]  # extracting only popular songs (with view count greater than 20k)"
   ],
   "metadata": {
    "collapsed": false
   }
  },
  {
   "cell_type": "code",
   "execution_count": 20,
   "outputs": [
    {
     "name": "stderr",
     "output_type": "stream",
     "text": [
      "C:\\Users\\Admin\\AppData\\Local\\Temp\\ipykernel_6200\\1746848592.py:14: SettingWithCopyWarning: \n",
      "A value is trying to be set on a copy of a slice from a DataFrame.\n",
      "Try using .loc[row_indexer,col_indexer] = value instead\n",
      "\n",
      "See the caveats in the documentation: https://pandas.pydata.org/pandas-docs/stable/user_guide/indexing.html#returning-a-view-versus-a-copy\n",
      "  songs['lyrics'] = songs['lyrics'].apply(clean_text)\n"
     ]
    }
   ],
   "source": [
    "import re\n",
    "\n",
    "# Text cleansing function\n",
    "def clean_text(text):\n",
    "    if not isinstance(text, str):\n",
    "        text = str(text)  # Convert to string if not already\n",
    "    text = text.replace('\\n', ' ')  # Replace newline characters with spaces\n",
    "    text = re.sub(r'\\[.*?\\]', '', text)  # Remove annotations\n",
    "    text = re.sub(r'[^a-zA-Z\\s]', '', text)  # Remove special characters\n",
    "    text = text.lower()  # Convert to lowercase\n",
    "    return text\n",
    "\n",
    "# Apply the cleaning function to the lyrics\n",
    "songs['lyrics'] = songs['lyrics'].apply(clean_text)"
   ],
   "metadata": {
    "collapsed": false
   }
  },
  {
   "cell_type": "code",
   "execution_count": 72,
   "outputs": [
    {
     "data": {
      "text/plain": "0      killa cam killa cam cam killa cam killa cam k...\n1        yeah hah yeah rocafella we invite you to so...\n3        ugh killa baby kanye this that s heron flow...\n4      so they ask me young boy what you gon do the ...\n5      haha uhhuh no homo young mula baby i say hes ...\n6      no no no i told you i lived this shit i aint ...\n7      killa dipset man i spit that pimp talk you ha...\n10     yeah money on my mind money on my mind yeah m...\n12       dear god  i wonder can you save me illumina...\n13       shawn carter was born december th weighing ...\nName: lyrics, dtype: object"
     },
     "execution_count": 72,
     "metadata": {},
     "output_type": "execute_result"
    }
   ],
   "source": [
    "songs[:10]['lyrics']  # verifying that cleansing was successful"
   ],
   "metadata": {
    "collapsed": false
   }
  },
  {
   "cell_type": "code",
   "execution_count": 71,
   "outputs": [
    {
     "name": "stderr",
     "output_type": "stream",
     "text": [
      "Token indices sequence length is longer than the specified maximum sequence length for this model (1063 > 512). Running this sequence through the model will result in indexing errors\n"
     ]
    },
    {
     "name": "stdout",
     "output_type": "stream",
     "text": [
      "[{'summary_text': 'i know i can be what i wanna be if i work hard at it ill be where i want to be . you can be anything in the world in god we trust an architect doctor maybe an actress'}]\n"
     ]
    }
   ],
   "source": [
    "# Summarization of the song by its id\n",
    "from transformers import pipeline\n",
    "\n",
    "summarizer = pipeline(\"summarization\", model=\"Falconsai/text_summarization\")\n",
    "\n",
    "# ARTICLE = songs.loc[1, 'lyrics']\n",
    "ARTICLE = songs.loc[songs['id'] == 614, 'lyrics'].values[0]\n",
    "# print(len(ARTICLE))\n",
    "print(summarizer(ARTICLE, max_length=50, min_length=30, do_sample=False))\n"
   ],
   "metadata": {
    "collapsed": false
   }
  },
  {
   "cell_type": "code",
   "execution_count": 56,
   "outputs": [],
   "source": [
    "from sentence_transformers import SentenceTransformer\n",
    "import faiss\n",
    "\n",
    "def find_similar_songs(songs_df, input_prompt, n=5):\n",
    "    model = SentenceTransformer('all-MiniLM-L6-v2')\n",
    "\n",
    "    # Drop rows with missing lyrics\n",
    "    songs_df = songs_df.dropna(subset=['lyrics'])\n",
    "\n",
    "    # Extract song lyrics and IDs\n",
    "    lyrics_sentences = songs_df['lyrics'].tolist()\n",
    "    song_ids = songs_df['id'].tolist()  # Assuming the DataFrame has a column 'id' for song IDs\n",
    "\n",
    "    # Compute embeddings for song lyrics\n",
    "    lyrics_embeddings = model.encode(lyrics_sentences, convert_to_tensor=True, batch_size=1000)\n",
    "\n",
    "    # Compute embedding for the input prompt\n",
    "    prompt_embedding = model.encode([input_prompt], convert_to_tensor=True, batch_size=1)\n",
    "\n",
    "    # Convert embeddings to numpy arrays\n",
    "    lyrics_embeddings_np = lyrics_embeddings.cpu().numpy()\n",
    "    prompt_embedding_np = prompt_embedding.cpu().numpy()\n",
    "\n",
    "    # Normalize embeddings to use cosine similarity\n",
    "    faiss.normalize_L2(lyrics_embeddings_np)\n",
    "    faiss.normalize_L2(prompt_embedding_np)\n",
    "\n",
    "    # Use FAISS for efficient nearest neighbor search\n",
    "    d = lyrics_embeddings_np.shape[1]\n",
    "    index = faiss.IndexFlatIP(d)  # Index for inner product (cosine similarity)\n",
    "    index.add(lyrics_embeddings_np)  # Add lyrics embeddings to the index\n",
    "\n",
    "    # Perform search\n",
    "    D, I = index.search(prompt_embedding_np, n)  # Search for top n nearest neighbors\n",
    "\n",
    "    # Collect top similarities\n",
    "    top_similarities = []\n",
    "    for j in range(n):\n",
    "        top_similarities.append((song_ids[I[0, j]], D[0, j]))\n",
    "\n",
    "    # Create a DataFrame from the collected data\n",
    "    result_df = pd.DataFrame(top_similarities, columns=['song_id', 'score'])\n",
    "\n",
    "    return result_df"
   ],
   "metadata": {
    "collapsed": false
   }
  },
  {
   "cell_type": "code",
   "execution_count": 70,
   "outputs": [
    {
     "data": {
      "text/plain": "   song_id   score_x              title  tag     artist  year   views  \\\n0      558  0.310672  Must Be the Ganja  rap     Eminem  2009  215816   \n1       80  0.282379        We Fly High  rap  Jim Jones  2006   63337   \n2      614  0.270811              I Can  rap        Nas  2003  336049   \n\n  features                                             lyrics   id   score_y  \n0       {}   yeah ohh yeah yeah ohh i feel like dancing i ...  558  0.009242  \n1       {}   i wear a mean dark pair of shades and you can...   80  0.002712  \n2       {}   i know i can be what i wanna be if i work har...  614  0.014391  ",
      "text/html": "<div>\n<style scoped>\n    .dataframe tbody tr th:only-of-type {\n        vertical-align: middle;\n    }\n\n    .dataframe tbody tr th {\n        vertical-align: top;\n    }\n\n    .dataframe thead th {\n        text-align: right;\n    }\n</style>\n<table border=\"1\" class=\"dataframe\">\n  <thead>\n    <tr style=\"text-align: right;\">\n      <th></th>\n      <th>song_id</th>\n      <th>score_x</th>\n      <th>title</th>\n      <th>tag</th>\n      <th>artist</th>\n      <th>year</th>\n      <th>views</th>\n      <th>features</th>\n      <th>lyrics</th>\n      <th>id</th>\n      <th>score_y</th>\n    </tr>\n  </thead>\n  <tbody>\n    <tr>\n      <th>0</th>\n      <td>558</td>\n      <td>0.310672</td>\n      <td>Must Be the Ganja</td>\n      <td>rap</td>\n      <td>Eminem</td>\n      <td>2009</td>\n      <td>215816</td>\n      <td>{}</td>\n      <td>yeah ohh yeah yeah ohh i feel like dancing i ...</td>\n      <td>558</td>\n      <td>0.009242</td>\n    </tr>\n    <tr>\n      <th>1</th>\n      <td>80</td>\n      <td>0.282379</td>\n      <td>We Fly High</td>\n      <td>rap</td>\n      <td>Jim Jones</td>\n      <td>2006</td>\n      <td>63337</td>\n      <td>{}</td>\n      <td>i wear a mean dark pair of shades and you can...</td>\n      <td>80</td>\n      <td>0.002712</td>\n    </tr>\n    <tr>\n      <th>2</th>\n      <td>614</td>\n      <td>0.270811</td>\n      <td>I Can</td>\n      <td>rap</td>\n      <td>Nas</td>\n      <td>2003</td>\n      <td>336049</td>\n      <td>{}</td>\n      <td>i know i can be what i wanna be if i work har...</td>\n      <td>614</td>\n      <td>0.014391</td>\n    </tr>\n  </tbody>\n</table>\n</div>"
     },
     "execution_count": 70,
     "metadata": {},
     "output_type": "execute_result"
    }
   ],
   "source": [
    "input_prompt = \"I want to dance, I feel so energetic\"\n",
    "n = 3\n",
    "sngs = songs[:500]  # taking only 500 songs due to computational time\n",
    "\n",
    "similar_songs_df = find_similar_songs(sngs, input_prompt, n)\n",
    "similar_songs = pd.merge(similar_songs_df, songs, how='left', left_on='song_id', right_on='id')\n",
    "similar_songs"
   ],
   "metadata": {
    "collapsed": false
   }
  },
  {
   "cell_type": "code",
   "execution_count": null,
   "outputs": [],
   "source": [],
   "metadata": {
    "collapsed": false
   }
  }
 ],
 "metadata": {
  "kernelspec": {
   "display_name": "Python 3",
   "language": "python",
   "name": "python3"
  },
  "language_info": {
   "codemirror_mode": {
    "name": "ipython",
    "version": 2
   },
   "file_extension": ".py",
   "mimetype": "text/x-python",
   "name": "python",
   "nbconvert_exporter": "python",
   "pygments_lexer": "ipython2",
   "version": "2.7.6"
  }
 },
 "nbformat": 4,
 "nbformat_minor": 0
}
